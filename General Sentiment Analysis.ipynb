{
 "cells": [
  {
   "cell_type": "markdown",
   "metadata": {},
   "source": [
    "## Import libraries and dataset"
   ]
  },
  {
   "cell_type": "code",
   "execution_count": 50,
   "metadata": {},
   "outputs": [],
   "source": [
    "import pandas as pd\n",
    "import nltk\n",
    "from nltk.tokenize import *\n",
    "from nltk.corpus import stopwords\n",
    "import datetime\n",
    "import numpy as np"
   ]
  },
  {
   "cell_type": "code",
   "execution_count": 2,
   "metadata": {},
   "outputs": [],
   "source": [
    "df = pd.read_json('goodreads_reviews_children.json', lines= True)"
   ]
  },
  {
   "cell_type": "markdown",
   "metadata": {},
   "source": [
    "## Filter dataset for the Top 10 most reviewed"
   ]
  },
  {
   "cell_type": "code",
   "execution_count": 3,
   "metadata": {},
   "outputs": [
    {
     "name": "stdout",
     "output_type": "stream",
     "text": [
      "         book_id  value_count\n",
      "88          3636         6156\n",
      "0              5         4696\n",
      "74564   11387515         4499\n",
      "4678      157993         3114\n",
      "2403       78411         1999\n",
      "70142    9673436         1947\n",
      "323         8127         1721\n",
      "9794      370493         1697\n",
      "75083   11594337         1575\n",
      "54          2998         1524\n",
      "1341       38709         1450\n",
      "818        24178         1449\n",
      "1399       39988         1387\n",
      "104579  23302416         1351\n",
      "10257     389627         1320\n",
      "89750   17349203         1288\n",
      "6662      236093         1184\n",
      "14           378         1115\n",
      "43          2839         1065\n",
      "2562       83369         1058\n"
     ]
    }
   ],
   "source": [
    "book_selection = df.groupby('book_id').size().reset_index()\n",
    "book_selection = book_selection.rename(columns = {0:'value_count'}).sort_values('value_count', ascending = False)\n",
    "print(book_selection.head(20))\n",
    "book_selection = book_selection['book_id'][:10]"
   ]
  },
  {
   "cell_type": "code",
   "execution_count": 4,
   "metadata": {
    "scrolled": true
   },
   "outputs": [
    {
     "data": {
      "text/html": [
       "<div>\n",
       "<style scoped>\n",
       "    .dataframe tbody tr th:only-of-type {\n",
       "        vertical-align: middle;\n",
       "    }\n",
       "\n",
       "    .dataframe tbody tr th {\n",
       "        vertical-align: top;\n",
       "    }\n",
       "\n",
       "    .dataframe thead th {\n",
       "        text-align: right;\n",
       "    }\n",
       "</style>\n",
       "<table border=\"1\" class=\"dataframe\">\n",
       "  <thead>\n",
       "    <tr style=\"text-align: right;\">\n",
       "      <th></th>\n",
       "      <th>user_id</th>\n",
       "      <th>book_id</th>\n",
       "      <th>review_id</th>\n",
       "      <th>rating</th>\n",
       "      <th>review_text</th>\n",
       "      <th>date_added</th>\n",
       "      <th>date_updated</th>\n",
       "      <th>read_at</th>\n",
       "      <th>started_at</th>\n",
       "      <th>n_votes</th>\n",
       "      <th>n_comments</th>\n",
       "    </tr>\n",
       "  </thead>\n",
       "  <tbody>\n",
       "    <tr>\n",
       "      <th>46</th>\n",
       "      <td>7b2e5fe9fd353fecf3eeebb4850b88d3</td>\n",
       "      <td>11594337</td>\n",
       "      <td>0cef00e7ac5b37c459c94083475413f7</td>\n",
       "      <td>5</td>\n",
       "      <td>great story, heartwarming and very current wit...</td>\n",
       "      <td>Sat Jan 05 17:30:28 -0800 2013</td>\n",
       "      <td>Sun Jan 27 19:35:53 -0800 2013</td>\n",
       "      <td></td>\n",
       "      <td></td>\n",
       "      <td>0</td>\n",
       "      <td>0</td>\n",
       "    </tr>\n",
       "    <tr>\n",
       "      <th>54</th>\n",
       "      <td>0ef32090550901ead25cb0ea21c4d36b</td>\n",
       "      <td>157993</td>\n",
       "      <td>f379671d83939b72314ef2439d44e372</td>\n",
       "      <td>4</td>\n",
       "      <td>I read this in French during high school (Fren...</td>\n",
       "      <td>Wed Nov 21 16:45:09 -0800 2012</td>\n",
       "      <td>Wed Nov 21 16:45:46 -0800 2012</td>\n",
       "      <td></td>\n",
       "      <td></td>\n",
       "      <td>0</td>\n",
       "      <td>0</td>\n",
       "    </tr>\n",
       "    <tr>\n",
       "      <th>63</th>\n",
       "      <td>d37b46b2190ed7c518259f29b47a9b36</td>\n",
       "      <td>3636</td>\n",
       "      <td>ac7aae56c65adfde94bb8a9e653f67d3</td>\n",
       "      <td>5</td>\n",
       "      <td>A quick but engrossing dystopian novel. The re...</td>\n",
       "      <td>Thu Mar 30 11:33:22 -0700 2017</td>\n",
       "      <td>Thu Mar 30 18:10:44 -0700 2017</td>\n",
       "      <td>Thu Mar 30 00:00:00 -0700 2017</td>\n",
       "      <td>Wed Mar 29 00:00:00 -0700 2017</td>\n",
       "      <td>4</td>\n",
       "      <td>0</td>\n",
       "    </tr>\n",
       "    <tr>\n",
       "      <th>70</th>\n",
       "      <td>f4c6fe33ef61c38f7f4aeb5224c259a5</td>\n",
       "      <td>11387515</td>\n",
       "      <td>13f03d0906f27f5202865787efdf1bbc</td>\n",
       "      <td>4</td>\n",
       "      <td>I love how simple the story was told but the m...</td>\n",
       "      <td>Sun Nov 04 00:40:58 -0700 2012</td>\n",
       "      <td>Mon Nov 12 04:14:02 -0800 2012</td>\n",
       "      <td>Mon Nov 12 04:14:02 -0800 2012</td>\n",
       "      <td>Sun Nov 04 00:00:00 -0700 2012</td>\n",
       "      <td>0</td>\n",
       "      <td>0</td>\n",
       "    </tr>\n",
       "    <tr>\n",
       "      <th>71</th>\n",
       "      <td>f4c6fe33ef61c38f7f4aeb5224c259a5</td>\n",
       "      <td>157993</td>\n",
       "      <td>45c234cd783da040e9da8c3e81df0297</td>\n",
       "      <td>5</td>\n",
       "      <td>We should see with our hearts not with our eye...</td>\n",
       "      <td>Fri Nov 02 07:37:50 -0700 2012</td>\n",
       "      <td>Fri Apr 26 06:56:47 -0700 2013</td>\n",
       "      <td></td>\n",
       "      <td></td>\n",
       "      <td>1</td>\n",
       "      <td>0</td>\n",
       "    </tr>\n",
       "  </tbody>\n",
       "</table>\n",
       "</div>"
      ],
      "text/plain": [
       "                             user_id   book_id  \\\n",
       "46  7b2e5fe9fd353fecf3eeebb4850b88d3  11594337   \n",
       "54  0ef32090550901ead25cb0ea21c4d36b    157993   \n",
       "63  d37b46b2190ed7c518259f29b47a9b36      3636   \n",
       "70  f4c6fe33ef61c38f7f4aeb5224c259a5  11387515   \n",
       "71  f4c6fe33ef61c38f7f4aeb5224c259a5    157993   \n",
       "\n",
       "                           review_id  rating  \\\n",
       "46  0cef00e7ac5b37c459c94083475413f7       5   \n",
       "54  f379671d83939b72314ef2439d44e372       4   \n",
       "63  ac7aae56c65adfde94bb8a9e653f67d3       5   \n",
       "70  13f03d0906f27f5202865787efdf1bbc       4   \n",
       "71  45c234cd783da040e9da8c3e81df0297       5   \n",
       "\n",
       "                                          review_text  \\\n",
       "46  great story, heartwarming and very current wit...   \n",
       "54  I read this in French during high school (Fren...   \n",
       "63  A quick but engrossing dystopian novel. The re...   \n",
       "70  I love how simple the story was told but the m...   \n",
       "71  We should see with our hearts not with our eye...   \n",
       "\n",
       "                        date_added                    date_updated  \\\n",
       "46  Sat Jan 05 17:30:28 -0800 2013  Sun Jan 27 19:35:53 -0800 2013   \n",
       "54  Wed Nov 21 16:45:09 -0800 2012  Wed Nov 21 16:45:46 -0800 2012   \n",
       "63  Thu Mar 30 11:33:22 -0700 2017  Thu Mar 30 18:10:44 -0700 2017   \n",
       "70  Sun Nov 04 00:40:58 -0700 2012  Mon Nov 12 04:14:02 -0800 2012   \n",
       "71  Fri Nov 02 07:37:50 -0700 2012  Fri Apr 26 06:56:47 -0700 2013   \n",
       "\n",
       "                           read_at                      started_at  n_votes  \\\n",
       "46                                                                        0   \n",
       "54                                                                        0   \n",
       "63  Thu Mar 30 00:00:00 -0700 2017  Wed Mar 29 00:00:00 -0700 2017        4   \n",
       "70  Mon Nov 12 04:14:02 -0800 2012  Sun Nov 04 00:00:00 -0700 2012        0   \n",
       "71                                                                        1   \n",
       "\n",
       "    n_comments  \n",
       "46           0  \n",
       "54           0  \n",
       "63           0  \n",
       "70           0  \n",
       "71           0  "
      ]
     },
     "execution_count": 4,
     "metadata": {},
     "output_type": "execute_result"
    }
   ],
   "source": [
    "#Subset all reviews for the top 10 books\n",
    "\n",
    "df = df[df['book_id'].isin(book_selection)]\n",
    "df.head()"
   ]
  },
  {
   "cell_type": "code",
   "execution_count": 5,
   "metadata": {},
   "outputs": [
    {
     "data": {
      "text/html": [
       "<div>\n",
       "<style scoped>\n",
       "    .dataframe tbody tr th:only-of-type {\n",
       "        vertical-align: middle;\n",
       "    }\n",
       "\n",
       "    .dataframe tbody tr th {\n",
       "        vertical-align: top;\n",
       "    }\n",
       "\n",
       "    .dataframe thead th {\n",
       "        text-align: right;\n",
       "    }\n",
       "</style>\n",
       "<table border=\"1\" class=\"dataframe\">\n",
       "  <thead>\n",
       "    <tr style=\"text-align: right;\">\n",
       "      <th></th>\n",
       "      <th>book_id</th>\n",
       "      <th>rating</th>\n",
       "      <th>review_text</th>\n",
       "    </tr>\n",
       "  </thead>\n",
       "  <tbody>\n",
       "    <tr>\n",
       "      <th>46</th>\n",
       "      <td>11594337</td>\n",
       "      <td>5</td>\n",
       "      <td>great story, heartwarming and very current wit...</td>\n",
       "    </tr>\n",
       "    <tr>\n",
       "      <th>54</th>\n",
       "      <td>157993</td>\n",
       "      <td>4</td>\n",
       "      <td>I read this in French during high school (Fren...</td>\n",
       "    </tr>\n",
       "    <tr>\n",
       "      <th>63</th>\n",
       "      <td>3636</td>\n",
       "      <td>5</td>\n",
       "      <td>A quick but engrossing dystopian novel. The re...</td>\n",
       "    </tr>\n",
       "    <tr>\n",
       "      <th>70</th>\n",
       "      <td>11387515</td>\n",
       "      <td>4</td>\n",
       "      <td>I love how simple the story was told but the m...</td>\n",
       "    </tr>\n",
       "    <tr>\n",
       "      <th>71</th>\n",
       "      <td>157993</td>\n",
       "      <td>5</td>\n",
       "      <td>We should see with our hearts not with our eye...</td>\n",
       "    </tr>\n",
       "  </tbody>\n",
       "</table>\n",
       "</div>"
      ],
      "text/plain": [
       "     book_id  rating                                        review_text\n",
       "46  11594337       5  great story, heartwarming and very current wit...\n",
       "54    157993       4  I read this in French during high school (Fren...\n",
       "63      3636       5  A quick but engrossing dystopian novel. The re...\n",
       "70  11387515       4  I love how simple the story was told but the m...\n",
       "71    157993       5  We should see with our hearts not with our eye..."
      ]
     },
     "execution_count": 5,
     "metadata": {},
     "output_type": "execute_result"
    }
   ],
   "source": [
    "# Filter for dataset containing only review text and user given rating\n",
    "\n",
    "df1 = pd.DataFrame(df, columns=['book_id', 'rating', 'review_text'])\n",
    "df1.head()"
   ]
  },
  {
   "cell_type": "markdown",
   "metadata": {},
   "source": [
    "## Data Pre-processing\n",
    "\n",
    "1. Removal of weblinks\n",
    "2. Sentence tokenization using nltk\n",
    "3. Sentence tokenization using spacy"
   ]
  },
  {
   "cell_type": "code",
   "execution_count": 6,
   "metadata": {},
   "outputs": [],
   "source": [
    "# Removal of Weblinks, hashtags & mentions\n",
    "\n",
    "def remove_content(text):\n",
    "    text = re.sub(r\"http\\S+\", \"\", text) #remove urls\n",
    "    text = re.sub(r'\\S+\\.com\\S+','',text) #remove urls\n",
    "    text = re.sub(r'\\@\\w+','',text) #remove mentions\n",
    "    text = re.sub(r'\\#\\w+','',text) #remove hashtags\n",
    "    return text\n",
    "\n",
    "df1['review_xlink'] = df1['review_text'].apply(lambda x: remove_content(x))"
   ]
  },
  {
   "cell_type": "markdown",
   "metadata": {},
   "source": [
    "## Sentiment Analysis"
   ]
  },
  {
   "attachments": {
    "image.png": {
     "image/png": "[encoded data removed]"
    }
   },
   "cell_type": "markdown",
   "metadata": {},
   "source": [
    "### 1. Vader\n",
    "Compound VADER scores for analyzing sentiment\n",
    "The compound score is computed by summing the valence scores of each word in the lexicon, adjusted according to the rules, and then normalized to be between -1 (most extreme negative) and +1 (most extreme positive). This is the most useful metric if you want a single unidimensional measure of sentiment for a given sentence.\n",
    "\n",
    "As explained in the paper, researchers used below normalization.\n",
    "\n",
    "![image.png](attachment:image.png)\n",
    "\n",
    "where x = sum of valence scores of constituent words, and α = Normalization constant (default value is 15)"
   ]
  },
  {
   "cell_type": "code",
   "execution_count": null,
   "metadata": {
    "scrolled": true
   },
   "outputs": [],
   "source": [
    "# !pip install vaderSentiment"
   ]
  },
  {
   "cell_type": "code",
   "execution_count": 7,
   "metadata": {},
   "outputs": [],
   "source": [
    "from vaderSentiment.vaderSentiment import SentimentIntensityAnalyzer\n",
    "analyser = SentimentIntensityAnalyzer()"
   ]
  },
  {
   "cell_type": "code",
   "execution_count": 8,
   "metadata": {},
   "outputs": [],
   "source": [
    "def sentiment_analyzer_scores(sentence):\n",
    "    score = analyser.polarity_scores(sentence)\n",
    "    print(\"{:-<40} {}\".format(sentence, str(score)))"
   ]
  },
  {
   "cell_type": "code",
   "execution_count": 9,
   "metadata": {},
   "outputs": [
    {
     "data": {
      "text/html": [
       "<div>\n",
       "<style scoped>\n",
       "    .dataframe tbody tr th:only-of-type {\n",
       "        vertical-align: middle;\n",
       "    }\n",
       "\n",
       "    .dataframe tbody tr th {\n",
       "        vertical-align: top;\n",
       "    }\n",
       "\n",
       "    .dataframe thead th {\n",
       "        text-align: right;\n",
       "    }\n",
       "</style>\n",
       "<table border=\"1\" class=\"dataframe\">\n",
       "  <thead>\n",
       "    <tr style=\"text-align: right;\">\n",
       "      <th></th>\n",
       "      <th>book_id</th>\n",
       "      <th>rating</th>\n",
       "      <th>review_text</th>\n",
       "      <th>review_xlink</th>\n",
       "      <th>vader_scores</th>\n",
       "    </tr>\n",
       "  </thead>\n",
       "  <tbody>\n",
       "    <tr>\n",
       "      <th>46</th>\n",
       "      <td>11594337</td>\n",
       "      <td>5</td>\n",
       "      <td>great story, heartwarming and very current wit...</td>\n",
       "      <td>great story, heartwarming and very current wit...</td>\n",
       "      <td>{'neg': 0.054, 'neu': 0.643, 'pos': 0.303, 'co...</td>\n",
       "    </tr>\n",
       "    <tr>\n",
       "      <th>54</th>\n",
       "      <td>157993</td>\n",
       "      <td>4</td>\n",
       "      <td>I read this in French during high school (Fren...</td>\n",
       "      <td>I read this in French during high school (Fren...</td>\n",
       "      <td>{'neg': 0.0, 'neu': 1.0, 'pos': 0.0, 'compound...</td>\n",
       "    </tr>\n",
       "    <tr>\n",
       "      <th>63</th>\n",
       "      <td>3636</td>\n",
       "      <td>5</td>\n",
       "      <td>A quick but engrossing dystopian novel. The re...</td>\n",
       "      <td>A quick but engrossing dystopian novel. The re...</td>\n",
       "      <td>{'neg': 0.145, 'neu': 0.655, 'pos': 0.2, 'comp...</td>\n",
       "    </tr>\n",
       "    <tr>\n",
       "      <th>70</th>\n",
       "      <td>11387515</td>\n",
       "      <td>4</td>\n",
       "      <td>I love how simple the story was told but the m...</td>\n",
       "      <td>I love how simple the story was told but the m...</td>\n",
       "      <td>{'neg': 0.116, 'neu': 0.658, 'pos': 0.226, 'co...</td>\n",
       "    </tr>\n",
       "    <tr>\n",
       "      <th>71</th>\n",
       "      <td>157993</td>\n",
       "      <td>5</td>\n",
       "      <td>We should see with our hearts not with our eye...</td>\n",
       "      <td>We should see with our hearts not with our eye...</td>\n",
       "      <td>{'neg': 0.011, 'neu': 0.825, 'pos': 0.164, 'co...</td>\n",
       "    </tr>\n",
       "  </tbody>\n",
       "</table>\n",
       "</div>"
      ],
      "text/plain": [
       "     book_id  rating                                        review_text  \\\n",
       "46  11594337       5  great story, heartwarming and very current wit...   \n",
       "54    157993       4  I read this in French during high school (Fren...   \n",
       "63      3636       5  A quick but engrossing dystopian novel. The re...   \n",
       "70  11387515       4  I love how simple the story was told but the m...   \n",
       "71    157993       5  We should see with our hearts not with our eye...   \n",
       "\n",
       "                                         review_xlink  \\\n",
       "46  great story, heartwarming and very current wit...   \n",
       "54  I read this in French during high school (Fren...   \n",
       "63  A quick but engrossing dystopian novel. The re...   \n",
       "70  I love how simple the story was told but the m...   \n",
       "71  We should see with our hearts not with our eye...   \n",
       "\n",
       "                                         vader_scores  \n",
       "46  {'neg': 0.054, 'neu': 0.643, 'pos': 0.303, 'co...  \n",
       "54  {'neg': 0.0, 'neu': 1.0, 'pos': 0.0, 'compound...  \n",
       "63  {'neg': 0.145, 'neu': 0.655, 'pos': 0.2, 'comp...  \n",
       "70  {'neg': 0.116, 'neu': 0.658, 'pos': 0.226, 'co...  \n",
       "71  {'neg': 0.011, 'neu': 0.825, 'pos': 0.164, 'co...  "
      ]
     },
     "execution_count": 9,
     "metadata": {},
     "output_type": "execute_result"
    }
   ],
   "source": [
    "# Add column to include polarity score\n",
    "\n",
    "df1['vader_scores'] = df1['review_xlink'].apply(lambda review_xlink: analyser.polarity_scores(review_xlink))\n",
    "df1.head()"
   ]
  },
  {
   "cell_type": "code",
   "execution_count": 10,
   "metadata": {},
   "outputs": [
    {
     "data": {
      "text/html": [
       "<div>\n",
       "<style scoped>\n",
       "    .dataframe tbody tr th:only-of-type {\n",
       "        vertical-align: middle;\n",
       "    }\n",
       "\n",
       "    .dataframe tbody tr th {\n",
       "        vertical-align: top;\n",
       "    }\n",
       "\n",
       "    .dataframe thead th {\n",
       "        text-align: right;\n",
       "    }\n",
       "</style>\n",
       "<table border=\"1\" class=\"dataframe\">\n",
       "  <thead>\n",
       "    <tr style=\"text-align: right;\">\n",
       "      <th></th>\n",
       "      <th>book_id</th>\n",
       "      <th>rating</th>\n",
       "      <th>review_text</th>\n",
       "      <th>review_xlink</th>\n",
       "      <th>vader_scores</th>\n",
       "      <th>vader_comp</th>\n",
       "    </tr>\n",
       "  </thead>\n",
       "  <tbody>\n",
       "    <tr>\n",
       "      <th>46</th>\n",
       "      <td>11594337</td>\n",
       "      <td>5</td>\n",
       "      <td>great story, heartwarming and very current wit...</td>\n",
       "      <td>great story, heartwarming and very current wit...</td>\n",
       "      <td>{'neg': 0.054, 'neu': 0.643, 'pos': 0.303, 'co...</td>\n",
       "      <td>0.8834</td>\n",
       "    </tr>\n",
       "    <tr>\n",
       "      <th>54</th>\n",
       "      <td>157993</td>\n",
       "      <td>4</td>\n",
       "      <td>I read this in French during high school (Fren...</td>\n",
       "      <td>I read this in French during high school (Fren...</td>\n",
       "      <td>{'neg': 0.0, 'neu': 1.0, 'pos': 0.0, 'compound...</td>\n",
       "      <td>0.0000</td>\n",
       "    </tr>\n",
       "    <tr>\n",
       "      <th>63</th>\n",
       "      <td>3636</td>\n",
       "      <td>5</td>\n",
       "      <td>A quick but engrossing dystopian novel. The re...</td>\n",
       "      <td>A quick but engrossing dystopian novel. The re...</td>\n",
       "      <td>{'neg': 0.145, 'neu': 0.655, 'pos': 0.2, 'comp...</td>\n",
       "      <td>0.3549</td>\n",
       "    </tr>\n",
       "    <tr>\n",
       "      <th>70</th>\n",
       "      <td>11387515</td>\n",
       "      <td>4</td>\n",
       "      <td>I love how simple the story was told but the m...</td>\n",
       "      <td>I love how simple the story was told but the m...</td>\n",
       "      <td>{'neg': 0.116, 'neu': 0.658, 'pos': 0.226, 'co...</td>\n",
       "      <td>0.9654</td>\n",
       "    </tr>\n",
       "    <tr>\n",
       "      <th>71</th>\n",
       "      <td>157993</td>\n",
       "      <td>5</td>\n",
       "      <td>We should see with our hearts not with our eye...</td>\n",
       "      <td>We should see with our hearts not with our eye...</td>\n",
       "      <td>{'neg': 0.011, 'neu': 0.825, 'pos': 0.164, 'co...</td>\n",
       "      <td>0.9436</td>\n",
       "    </tr>\n",
       "  </tbody>\n",
       "</table>\n",
       "</div>"
      ],
      "text/plain": [
       "     book_id  rating                                        review_text  \\\n",
       "46  11594337       5  great story, heartwarming and very current wit...   \n",
       "54    157993       4  I read this in French during high school (Fren...   \n",
       "63      3636       5  A quick but engrossing dystopian novel. The re...   \n",
       "70  11387515       4  I love how simple the story was told but the m...   \n",
       "71    157993       5  We should see with our hearts not with our eye...   \n",
       "\n",
       "                                         review_xlink  \\\n",
       "46  great story, heartwarming and very current wit...   \n",
       "54  I read this in French during high school (Fren...   \n",
       "63  A quick but engrossing dystopian novel. The re...   \n",
       "70  I love how simple the story was told but the m...   \n",
       "71  We should see with our hearts not with our eye...   \n",
       "\n",
       "                                         vader_scores  vader_comp  \n",
       "46  {'neg': 0.054, 'neu': 0.643, 'pos': 0.303, 'co...      0.8834  \n",
       "54  {'neg': 0.0, 'neu': 1.0, 'pos': 0.0, 'compound...      0.0000  \n",
       "63  {'neg': 0.145, 'neu': 0.655, 'pos': 0.2, 'comp...      0.3549  \n",
       "70  {'neg': 0.116, 'neu': 0.658, 'pos': 0.226, 'co...      0.9654  \n",
       "71  {'neg': 0.011, 'neu': 0.825, 'pos': 0.164, 'co...      0.9436  "
      ]
     },
     "execution_count": 10,
     "metadata": {},
     "output_type": "execute_result"
    }
   ],
   "source": [
    "# Add column to extract compound score\n",
    "\n",
    "df1['vader_comp']  = df1['vader_scores'].apply(lambda score_dict: score_dict['compound'])\n",
    "df1.head()"
   ]
  },
  {
   "cell_type": "code",
   "execution_count": 11,
   "metadata": {},
   "outputs": [
    {
     "data": {
      "text/html": [
       "<div>\n",
       "<style scoped>\n",
       "    .dataframe tbody tr th:only-of-type {\n",
       "        vertical-align: middle;\n",
       "    }\n",
       "\n",
       "    .dataframe tbody tr th {\n",
       "        vertical-align: top;\n",
       "    }\n",
       "\n",
       "    .dataframe thead th {\n",
       "        text-align: right;\n",
       "    }\n",
       "</style>\n",
       "<table border=\"1\" class=\"dataframe\">\n",
       "  <thead>\n",
       "    <tr style=\"text-align: right;\">\n",
       "      <th></th>\n",
       "      <th>book_id</th>\n",
       "      <th>rating</th>\n",
       "      <th>review_text</th>\n",
       "      <th>review_xlink</th>\n",
       "      <th>vader_scores</th>\n",
       "      <th>vader_comp</th>\n",
       "      <th>vader_sentiment</th>\n",
       "    </tr>\n",
       "  </thead>\n",
       "  <tbody>\n",
       "    <tr>\n",
       "      <th>46</th>\n",
       "      <td>11594337</td>\n",
       "      <td>5</td>\n",
       "      <td>great story, heartwarming and very current wit...</td>\n",
       "      <td>great story, heartwarming and very current wit...</td>\n",
       "      <td>{'neg': 0.054, 'neu': 0.643, 'pos': 0.303, 'co...</td>\n",
       "      <td>0.8834</td>\n",
       "      <td>pos</td>\n",
       "    </tr>\n",
       "    <tr>\n",
       "      <th>54</th>\n",
       "      <td>157993</td>\n",
       "      <td>4</td>\n",
       "      <td>I read this in French during high school (Fren...</td>\n",
       "      <td>I read this in French during high school (Fren...</td>\n",
       "      <td>{'neg': 0.0, 'neu': 1.0, 'pos': 0.0, 'compound...</td>\n",
       "      <td>0.0000</td>\n",
       "      <td>neutral</td>\n",
       "    </tr>\n",
       "    <tr>\n",
       "      <th>63</th>\n",
       "      <td>3636</td>\n",
       "      <td>5</td>\n",
       "      <td>A quick but engrossing dystopian novel. The re...</td>\n",
       "      <td>A quick but engrossing dystopian novel. The re...</td>\n",
       "      <td>{'neg': 0.145, 'neu': 0.655, 'pos': 0.2, 'comp...</td>\n",
       "      <td>0.3549</td>\n",
       "      <td>pos</td>\n",
       "    </tr>\n",
       "    <tr>\n",
       "      <th>70</th>\n",
       "      <td>11387515</td>\n",
       "      <td>4</td>\n",
       "      <td>I love how simple the story was told but the m...</td>\n",
       "      <td>I love how simple the story was told but the m...</td>\n",
       "      <td>{'neg': 0.116, 'neu': 0.658, 'pos': 0.226, 'co...</td>\n",
       "      <td>0.9654</td>\n",
       "      <td>pos</td>\n",
       "    </tr>\n",
       "    <tr>\n",
       "      <th>71</th>\n",
       "      <td>157993</td>\n",
       "      <td>5</td>\n",
       "      <td>We should see with our hearts not with our eye...</td>\n",
       "      <td>We should see with our hearts not with our eye...</td>\n",
       "      <td>{'neg': 0.011, 'neu': 0.825, 'pos': 0.164, 'co...</td>\n",
       "      <td>0.9436</td>\n",
       "      <td>pos</td>\n",
       "    </tr>\n",
       "  </tbody>\n",
       "</table>\n",
       "</div>"
      ],
      "text/plain": [
       "     book_id  rating                                        review_text  \\\n",
       "46  11594337       5  great story, heartwarming and very current wit...   \n",
       "54    157993       4  I read this in French during high school (Fren...   \n",
       "63      3636       5  A quick but engrossing dystopian novel. The re...   \n",
       "70  11387515       4  I love how simple the story was told but the m...   \n",
       "71    157993       5  We should see with our hearts not with our eye...   \n",
       "\n",
       "                                         review_xlink  \\\n",
       "46  great story, heartwarming and very current wit...   \n",
       "54  I read this in French during high school (Fren...   \n",
       "63  A quick but engrossing dystopian novel. The re...   \n",
       "70  I love how simple the story was told but the m...   \n",
       "71  We should see with our hearts not with our eye...   \n",
       "\n",
       "                                         vader_scores  vader_comp  \\\n",
       "46  {'neg': 0.054, 'neu': 0.643, 'pos': 0.303, 'co...      0.8834   \n",
       "54  {'neg': 0.0, 'neu': 1.0, 'pos': 0.0, 'compound...      0.0000   \n",
       "63  {'neg': 0.145, 'neu': 0.655, 'pos': 0.2, 'comp...      0.3549   \n",
       "70  {'neg': 0.116, 'neu': 0.658, 'pos': 0.226, 'co...      0.9654   \n",
       "71  {'neg': 0.011, 'neu': 0.825, 'pos': 0.164, 'co...      0.9436   \n",
       "\n",
       "   vader_sentiment  \n",
       "46             pos  \n",
       "54         neutral  \n",
       "63             pos  \n",
       "70             pos  \n",
       "71             pos  "
      ]
     },
     "execution_count": 11,
     "metadata": {},
     "output_type": "execute_result"
    }
   ],
   "source": [
    "# Apply label in a new column\n",
    "\n",
    "df1['vader_sentiment'] = df1['vader_comp'].apply(lambda c: 'pos' if c >=0.3 else 'neg' if c<= -0.3 else 'neutral')\n",
    "df1.head()"
   ]
  },
  {
   "cell_type": "code",
   "execution_count": 12,
   "metadata": {},
   "outputs": [
    {
     "data": {
      "text/html": [
       "<div>\n",
       "<style scoped>\n",
       "    .dataframe tbody tr th:only-of-type {\n",
       "        vertical-align: middle;\n",
       "    }\n",
       "\n",
       "    .dataframe tbody tr th {\n",
       "        vertical-align: top;\n",
       "    }\n",
       "\n",
       "    .dataframe thead th {\n",
       "        text-align: right;\n",
       "    }\n",
       "</style>\n",
       "<table border=\"1\" class=\"dataframe\">\n",
       "  <thead>\n",
       "    <tr style=\"text-align: right;\">\n",
       "      <th></th>\n",
       "      <th>book_id</th>\n",
       "      <th>rating</th>\n",
       "      <th>review_text</th>\n",
       "      <th>review_xlink</th>\n",
       "      <th>vader_scores</th>\n",
       "      <th>vader_comp</th>\n",
       "      <th>vader_sentiment</th>\n",
       "      <th>user_sentiment</th>\n",
       "    </tr>\n",
       "  </thead>\n",
       "  <tbody>\n",
       "    <tr>\n",
       "      <th>46</th>\n",
       "      <td>11594337</td>\n",
       "      <td>5</td>\n",
       "      <td>great story, heartwarming and very current wit...</td>\n",
       "      <td>great story, heartwarming and very current wit...</td>\n",
       "      <td>{'neg': 0.054, 'neu': 0.643, 'pos': 0.303, 'co...</td>\n",
       "      <td>0.8834</td>\n",
       "      <td>pos</td>\n",
       "      <td>pos</td>\n",
       "    </tr>\n",
       "    <tr>\n",
       "      <th>54</th>\n",
       "      <td>157993</td>\n",
       "      <td>4</td>\n",
       "      <td>I read this in French during high school (Fren...</td>\n",
       "      <td>I read this in French during high school (Fren...</td>\n",
       "      <td>{'neg': 0.0, 'neu': 1.0, 'pos': 0.0, 'compound...</td>\n",
       "      <td>0.0000</td>\n",
       "      <td>neutral</td>\n",
       "      <td>pos</td>\n",
       "    </tr>\n",
       "    <tr>\n",
       "      <th>63</th>\n",
       "      <td>3636</td>\n",
       "      <td>5</td>\n",
       "      <td>A quick but engrossing dystopian novel. The re...</td>\n",
       "      <td>A quick but engrossing dystopian novel. The re...</td>\n",
       "      <td>{'neg': 0.145, 'neu': 0.655, 'pos': 0.2, 'comp...</td>\n",
       "      <td>0.3549</td>\n",
       "      <td>pos</td>\n",
       "      <td>pos</td>\n",
       "    </tr>\n",
       "    <tr>\n",
       "      <th>70</th>\n",
       "      <td>11387515</td>\n",
       "      <td>4</td>\n",
       "      <td>I love how simple the story was told but the m...</td>\n",
       "      <td>I love how simple the story was told but the m...</td>\n",
       "      <td>{'neg': 0.116, 'neu': 0.658, 'pos': 0.226, 'co...</td>\n",
       "      <td>0.9654</td>\n",
       "      <td>pos</td>\n",
       "      <td>pos</td>\n",
       "    </tr>\n",
       "    <tr>\n",
       "      <th>71</th>\n",
       "      <td>157993</td>\n",
       "      <td>5</td>\n",
       "      <td>We should see with our hearts not with our eye...</td>\n",
       "      <td>We should see with our hearts not with our eye...</td>\n",
       "      <td>{'neg': 0.011, 'neu': 0.825, 'pos': 0.164, 'co...</td>\n",
       "      <td>0.9436</td>\n",
       "      <td>pos</td>\n",
       "      <td>pos</td>\n",
       "    </tr>\n",
       "  </tbody>\n",
       "</table>\n",
       "</div>"
      ],
      "text/plain": [
       "     book_id  rating                                        review_text  \\\n",
       "46  11594337       5  great story, heartwarming and very current wit...   \n",
       "54    157993       4  I read this in French during high school (Fren...   \n",
       "63      3636       5  A quick but engrossing dystopian novel. The re...   \n",
       "70  11387515       4  I love how simple the story was told but the m...   \n",
       "71    157993       5  We should see with our hearts not with our eye...   \n",
       "\n",
       "                                         review_xlink  \\\n",
       "46  great story, heartwarming and very current wit...   \n",
       "54  I read this in French during high school (Fren...   \n",
       "63  A quick but engrossing dystopian novel. The re...   \n",
       "70  I love how simple the story was told but the m...   \n",
       "71  We should see with our hearts not with our eye...   \n",
       "\n",
       "                                         vader_scores  vader_comp  \\\n",
       "46  {'neg': 0.054, 'neu': 0.643, 'pos': 0.303, 'co...      0.8834   \n",
       "54  {'neg': 0.0, 'neu': 1.0, 'pos': 0.0, 'compound...      0.0000   \n",
       "63  {'neg': 0.145, 'neu': 0.655, 'pos': 0.2, 'comp...      0.3549   \n",
       "70  {'neg': 0.116, 'neu': 0.658, 'pos': 0.226, 'co...      0.9654   \n",
       "71  {'neg': 0.011, 'neu': 0.825, 'pos': 0.164, 'co...      0.9436   \n",
       "\n",
       "   vader_sentiment user_sentiment  \n",
       "46             pos            pos  \n",
       "54         neutral            pos  \n",
       "63             pos            pos  \n",
       "70             pos            pos  \n",
       "71             pos            pos  "
      ]
     },
     "execution_count": 12,
     "metadata": {},
     "output_type": "execute_result"
    }
   ],
   "source": [
    "# Apply label in a new column\n",
    "\n",
    "df1['user_sentiment'] = df1['rating'].apply(lambda rating: 'pos' if rating >=4 else 'neg' if rating <= 2 else 'neutral')\n",
    "df1.head()"
   ]
  },
  {
   "cell_type": "code",
   "execution_count": 13,
   "metadata": {},
   "outputs": [],
   "source": [
    "from textblob import TextBlob"
   ]
  },
  {
   "cell_type": "code",
   "execution_count": 14,
   "metadata": {},
   "outputs": [],
   "source": [
    "# Repeat sentiment analysis using TextBlob\n",
    "# Apply results to confusion matrix\n",
    "\n",
    "\n",
    "def getSubjectivity(text):\n",
    "    return TextBlob(text).sentiment.subjectivity\n",
    "  \n",
    "#Create a function to get the polarity\n",
    "def getPolarity(text):\n",
    "    return TextBlob(text).sentiment.polarity\n",
    "  \n",
    " #Create two new columns ‘Subjectivity’ & ‘Polarity’\n",
    "df1['TextBlob_Subjectivity'] = df1['review_xlink'].apply(getSubjectivity)\n",
    "df1 ['TextBlob_Polarity'] = df1['review_xlink'].apply(getPolarity)\n",
    " \n",
    "#def getAnalysis(score):\n",
    "#    if score < 0:\n",
    "#        return 'Negative'\n",
    "#    elif score == 0:\n",
    "#        return 'Neutral'\n",
    "#    else:\n",
    "#        return 'Positive'\n",
    "#    df1['blob_score'] = df1['TextBlob_Polarity'].apply(getAnalysis)\n",
    "#    return df1\n"
   ]
  },
  {
   "cell_type": "code",
   "execution_count": 15,
   "metadata": {},
   "outputs": [
    {
     "data": {
      "text/html": [
       "<div>\n",
       "<style scoped>\n",
       "    .dataframe tbody tr th:only-of-type {\n",
       "        vertical-align: middle;\n",
       "    }\n",
       "\n",
       "    .dataframe tbody tr th {\n",
       "        vertical-align: top;\n",
       "    }\n",
       "\n",
       "    .dataframe thead th {\n",
       "        text-align: right;\n",
       "    }\n",
       "</style>\n",
       "<table border=\"1\" class=\"dataframe\">\n",
       "  <thead>\n",
       "    <tr style=\"text-align: right;\">\n",
       "      <th></th>\n",
       "      <th>book_id</th>\n",
       "      <th>rating</th>\n",
       "      <th>review_text</th>\n",
       "      <th>review_xlink</th>\n",
       "      <th>vader_scores</th>\n",
       "      <th>vader_comp</th>\n",
       "      <th>vader_sentiment</th>\n",
       "      <th>user_sentiment</th>\n",
       "      <th>TextBlob_Subjectivity</th>\n",
       "      <th>TextBlob_Polarity</th>\n",
       "      <th>TB_sentiment</th>\n",
       "    </tr>\n",
       "  </thead>\n",
       "  <tbody>\n",
       "    <tr>\n",
       "      <th>46</th>\n",
       "      <td>11594337</td>\n",
       "      <td>5</td>\n",
       "      <td>great story, heartwarming and very current wit...</td>\n",
       "      <td>great story, heartwarming and very current wit...</td>\n",
       "      <td>{'neg': 0.054, 'neu': 0.643, 'pos': 0.303, 'co...</td>\n",
       "      <td>0.8834</td>\n",
       "      <td>pos</td>\n",
       "      <td>pos</td>\n",
       "      <td>0.612143</td>\n",
       "      <td>0.453571</td>\n",
       "      <td>pos</td>\n",
       "    </tr>\n",
       "    <tr>\n",
       "      <th>54</th>\n",
       "      <td>157993</td>\n",
       "      <td>4</td>\n",
       "      <td>I read this in French during high school (Fren...</td>\n",
       "      <td>I read this in French during high school (Fren...</td>\n",
       "      <td>{'neg': 0.0, 'neu': 1.0, 'pos': 0.0, 'compound...</td>\n",
       "      <td>0.0000</td>\n",
       "      <td>neutral</td>\n",
       "      <td>pos</td>\n",
       "      <td>0.180000</td>\n",
       "      <td>0.053333</td>\n",
       "      <td>neutral</td>\n",
       "    </tr>\n",
       "    <tr>\n",
       "      <th>63</th>\n",
       "      <td>3636</td>\n",
       "      <td>5</td>\n",
       "      <td>A quick but engrossing dystopian novel. The re...</td>\n",
       "      <td>A quick but engrossing dystopian novel. The re...</td>\n",
       "      <td>{'neg': 0.145, 'neu': 0.655, 'pos': 0.2, 'comp...</td>\n",
       "      <td>0.3549</td>\n",
       "      <td>pos</td>\n",
       "      <td>pos</td>\n",
       "      <td>0.545238</td>\n",
       "      <td>0.104762</td>\n",
       "      <td>neutral</td>\n",
       "    </tr>\n",
       "    <tr>\n",
       "      <th>70</th>\n",
       "      <td>11387515</td>\n",
       "      <td>4</td>\n",
       "      <td>I love how simple the story was told but the m...</td>\n",
       "      <td>I love how simple the story was told but the m...</td>\n",
       "      <td>{'neg': 0.116, 'neu': 0.658, 'pos': 0.226, 'co...</td>\n",
       "      <td>0.9654</td>\n",
       "      <td>pos</td>\n",
       "      <td>pos</td>\n",
       "      <td>0.504185</td>\n",
       "      <td>0.176768</td>\n",
       "      <td>neutral</td>\n",
       "    </tr>\n",
       "    <tr>\n",
       "      <th>71</th>\n",
       "      <td>157993</td>\n",
       "      <td>5</td>\n",
       "      <td>We should see with our hearts not with our eye...</td>\n",
       "      <td>We should see with our hearts not with our eye...</td>\n",
       "      <td>{'neg': 0.011, 'neu': 0.825, 'pos': 0.164, 'co...</td>\n",
       "      <td>0.9436</td>\n",
       "      <td>pos</td>\n",
       "      <td>pos</td>\n",
       "      <td>0.683333</td>\n",
       "      <td>0.055729</td>\n",
       "      <td>neutral</td>\n",
       "    </tr>\n",
       "  </tbody>\n",
       "</table>\n",
       "</div>"
      ],
      "text/plain": [
       "     book_id  rating                                        review_text  \\\n",
       "46  11594337       5  great story, heartwarming and very current wit...   \n",
       "54    157993       4  I read this in French during high school (Fren...   \n",
       "63      3636       5  A quick but engrossing dystopian novel. The re...   \n",
       "70  11387515       4  I love how simple the story was told but the m...   \n",
       "71    157993       5  We should see with our hearts not with our eye...   \n",
       "\n",
       "                                         review_xlink  \\\n",
       "46  great story, heartwarming and very current wit...   \n",
       "54  I read this in French during high school (Fren...   \n",
       "63  A quick but engrossing dystopian novel. The re...   \n",
       "70  I love how simple the story was told but the m...   \n",
       "71  We should see with our hearts not with our eye...   \n",
       "\n",
       "                                         vader_scores  vader_comp  \\\n",
       "46  {'neg': 0.054, 'neu': 0.643, 'pos': 0.303, 'co...      0.8834   \n",
       "54  {'neg': 0.0, 'neu': 1.0, 'pos': 0.0, 'compound...      0.0000   \n",
       "63  {'neg': 0.145, 'neu': 0.655, 'pos': 0.2, 'comp...      0.3549   \n",
       "70  {'neg': 0.116, 'neu': 0.658, 'pos': 0.226, 'co...      0.9654   \n",
       "71  {'neg': 0.011, 'neu': 0.825, 'pos': 0.164, 'co...      0.9436   \n",
       "\n",
       "   vader_sentiment user_sentiment  TextBlob_Subjectivity  TextBlob_Polarity  \\\n",
       "46             pos            pos               0.612143           0.453571   \n",
       "54         neutral            pos               0.180000           0.053333   \n",
       "63             pos            pos               0.545238           0.104762   \n",
       "70             pos            pos               0.504185           0.176768   \n",
       "71             pos            pos               0.683333           0.055729   \n",
       "\n",
       "   TB_sentiment  \n",
       "46          pos  \n",
       "54      neutral  \n",
       "63      neutral  \n",
       "70      neutral  \n",
       "71      neutral  "
      ]
     },
     "execution_count": 15,
     "metadata": {},
     "output_type": "execute_result"
    }
   ],
   "source": [
    "df1['TB_sentiment'] = df1['TextBlob_Polarity'].apply(lambda rating: 'pos' if rating >=0.3 else 'neg' if rating <= -0.3 else 'neutral')\n",
    "df1.head()"
   ]
  },
  {
   "cell_type": "code",
   "execution_count": 16,
   "metadata": {},
   "outputs": [
    {
     "data": {
      "text/plain": [
       "array([[  476,   340,  1151],\n",
       "       [  525,   699,  3524],\n",
       "       [  964,  2036, 19213]], dtype=int64)"
      ]
     },
     "execution_count": 16,
     "metadata": {},
     "output_type": "execute_result"
    }
   ],
   "source": [
    "# Apply code to calculate confusion matrix between Vader score and user score\n",
    "# find accuracy, precision, recall:\n",
    "\n",
    "from sklearn.metrics import confusion_matrix,classification_report\n",
    "confusion_matrix(df1['vader_sentiment'],df1['user_sentiment'])"
   ]
  },
  {
   "cell_type": "code",
   "execution_count": 17,
   "metadata": {},
   "outputs": [
    {
     "name": "stdout",
     "output_type": "stream",
     "text": [
      "              precision    recall  f1-score   support\n",
      "\n",
      "         neg       0.24      0.24      0.24      1967\n",
      "     neutral       0.23      0.15      0.18      4748\n",
      "         pos       0.80      0.86      0.83     22213\n",
      "\n",
      "    accuracy                           0.70     28928\n",
      "   macro avg       0.42      0.42      0.42     28928\n",
      "weighted avg       0.67      0.70      0.69     28928\n",
      "\n"
     ]
    }
   ],
   "source": [
    "print(classification_report(df1['vader_sentiment'],df1['user_sentiment']))"
   ]
  },
  {
   "cell_type": "code",
   "execution_count": 18,
   "metadata": {},
   "outputs": [
    {
     "data": {
      "text/plain": [
       "array([[  165,    55,   238],\n",
       "       [ 1352,  2165, 13014],\n",
       "       [  448,   855, 10636]], dtype=int64)"
      ]
     },
     "execution_count": 18,
     "metadata": {},
     "output_type": "execute_result"
    }
   ],
   "source": [
    "# Compare TextBlob polarity score against user score\n",
    "\n",
    "confusion_matrix(df1['TB_sentiment'],df1['user_sentiment'])"
   ]
  },
  {
   "cell_type": "code",
   "execution_count": 19,
   "metadata": {},
   "outputs": [
    {
     "name": "stdout",
     "output_type": "stream",
     "text": [
      "              precision    recall  f1-score   support\n",
      "\n",
      "         neg       0.08      0.36      0.14       458\n",
      "     neutral       0.70      0.13      0.22     16531\n",
      "         pos       0.45      0.89      0.59     11939\n",
      "\n",
      "    accuracy                           0.45     28928\n",
      "   macro avg       0.41      0.46      0.32     28928\n",
      "weighted avg       0.59      0.45      0.37     28928\n",
      "\n"
     ]
    }
   ],
   "source": [
    "print(classification_report(df1['TB_sentiment'],df1['user_sentiment']))"
   ]
  },
  {
   "cell_type": "code",
   "execution_count": 20,
   "metadata": {},
   "outputs": [
    {
     "name": "stdout",
     "output_type": "stream",
     "text": [
      "A MUST READ for parents & educators, it demonstrates how a bullied child feels & how one member of the family can affect the whole that takes you on a rollercoaster of emotions.\n",
      "User rating is 4\n",
      "Vader polarity score is -0.6249\n",
      "TextBlob polarity score is 0.2\n"
     ]
    }
   ],
   "source": [
    "# Sample review 1\n",
    "\n",
    "print(df1.iloc[512,3])\n",
    "print(\"User rating is\",df1.iloc[512,1])\n",
    "print(\"Vader polarity score is\",df1.iloc[512,5])\n",
    "print(\"TextBlob polarity score is\",df1.iloc[512,9])"
   ]
  },
  {
   "cell_type": "code",
   "execution_count": 21,
   "metadata": {},
   "outputs": [
    {
     "name": "stdout",
     "output_type": "stream",
     "text": [
      "0.0\n",
      "0.0\n",
      "0.2\n"
     ]
    }
   ],
   "source": [
    "# Sentiment score (TextBlob) sentence by sentence\n",
    "\n",
    "sent1 = \"A MUST READ for parents & educators.\" \n",
    "print(getPolarity(sent1))\n",
    "\n",
    "sent2 = \"it demonstrates how a bullied child feels\"\n",
    "print(getPolarity(sent2))\n",
    "\n",
    "sent3 = \"how one member of the family can affect the whole that takes you on a rollercoaster of emotions\"\n",
    "print(getPolarity(sent3))\n",
    "\n"
   ]
  },
  {
   "cell_type": "code",
   "execution_count": 22,
   "metadata": {},
   "outputs": [
    {
     "name": "stdout",
     "output_type": "stream",
     "text": [
      "A MUST READ for parents & educators.---- {'neg': 0.0, 'neu': 1.0, 'pos': 0.0, 'compound': 0.0}\n",
      "it demonstrates how a bullied child feels {'neg': 0.406, 'neu': 0.594, 'pos': 0.0, 'compound': -0.6249}\n",
      "how one member of the family can affect the whole that takes you on a rollercoaster of emotions {'neg': 0.0, 'neu': 1.0, 'pos': 0.0, 'compound': 0.0}\n"
     ]
    }
   ],
   "source": [
    "# Sentiment score (Vader) sentence by sentence\n",
    "\n",
    "sent1 = \"A MUST READ for parents & educators.\" \n",
    "sentiment_analyzer_scores(sent1)\n",
    "\n",
    "sent2 = \"it demonstrates how a bullied child feels\"\n",
    "sentiment_analyzer_scores(sent2)\n",
    "\n",
    "sent3 = \"how one member of the family can affect the whole that takes you on a rollercoaster of emotions\"\n",
    "sentiment_analyzer_scores(sent3)"
   ]
  },
  {
   "cell_type": "code",
   "execution_count": 23,
   "metadata": {},
   "outputs": [
    {
     "name": "stdout",
     "output_type": "stream",
     "text": [
      "We should see with our hearts not with our eyes. This is the lesson I've learned from reading The Little Prince. I was convinced to read this book because my favorite professor, Sir Elson, told me that this was his favorite book. I've been hearing about this book and I was expecting it to be thick and in hard bound. But to my surprise, it was just thin. You can finish reading it in a couple of hours. I love that there were illustrations! It teaches a lot of lessons. Such an awe-inspiring book.\n",
      "User rating is 5\n",
      "Vader polarity score is 0.9436\n",
      "TextBlob polarity score is 0.055729166666666656\n"
     ]
    }
   ],
   "source": [
    "# Sample review 2\n",
    "\n",
    "print(df1.iloc[4,3])\n",
    "print(\"User rating is\",df1.iloc[4,1])\n",
    "print(\"Vader polarity score is\",df1.iloc[4,5])\n",
    "print(\"TextBlob polarity score is\",df1.iloc[4,9])"
   ]
  },
  {
   "cell_type": "code",
   "execution_count": 25,
   "metadata": {},
   "outputs": [
    {
     "name": "stdout",
     "output_type": "stream",
     "text": [
      "0.0\n",
      "-0.1875\n",
      "0.5\n",
      "-0.2958333333333334\n",
      "-0.4\n",
      "0.0\n",
      "0.625\n",
      "0.0\n",
      "0.0\n"
     ]
    }
   ],
   "source": [
    "# Sentiment score (TextBlob) sentence by sentence\n",
    "\n",
    "sent1 = \"We should see with our hearts not with our eyes.\" \n",
    "print(getPolarity(sent1))\n",
    "\n",
    "sent2 = \"This is the lesson I've learned from reading The Little Prince.\"\n",
    "print(getPolarity(sent2))\n",
    "\n",
    "sent3 = \"I was convinced to read this book because my favorite professor, Sir Elson, told me that this was his favorite book.\"\n",
    "print(getPolarity(sent3))\n",
    "\n",
    "sent4 = \"I've been hearing about this book and I was expecting it to be thick and in hard bound.\"\n",
    "print(getPolarity(sent4))\n",
    "\n",
    "sent5 = \"But to my surprise, it was just thin.\"\n",
    "print(getPolarity(sent5))\n",
    "\n",
    "sent6 = \"You can finish reading it in a couple of hours.\"\n",
    "print(getPolarity(sent6))\n",
    "\n",
    "sent7 = \"I love that there were illustrations!\"\n",
    "print(getPolarity(sent7))\n",
    "\n",
    "sent8 = \"It teaches a lot of lessons.\"\n",
    "print(getPolarity(sent8))\n",
    "\n",
    "sent9 = \"Such an awe-inspiring book.\"\n",
    "print(getPolarity(sent9))"
   ]
  },
  {
   "cell_type": "code",
   "execution_count": 24,
   "metadata": {},
   "outputs": [
    {
     "name": "stdout",
     "output_type": "stream",
     "text": [
      "We should see with our hearts not with our eyes. {'neg': 0.0, 'neu': 0.677, 'pos': 0.323, 'compound': 0.6486}\n",
      "None\n",
      "This is the lesson I've learned from reading The Little Prince. {'neg': 0.0, 'neu': 1.0, 'pos': 0.0, 'compound': 0.0}\n",
      "None\n",
      "I was convinced to read this book because my favorite professor, Sir Elson, told me that this was his favorite book. {'neg': 0.0, 'neu': 0.674, 'pos': 0.326, 'compound': 0.8271}\n",
      "None\n",
      "I've been hearing about this book and I was expecting it to be thick and in hard bound. {'neg': 0.076, 'neu': 0.924, 'pos': 0.0, 'compound': -0.1027}\n",
      "None\n",
      "But to my surprise, it was just thin.--- {'neg': 0.0, 'neu': 0.725, 'pos': 0.275, 'compound': 0.3919}\n",
      "None\n",
      "You can finish reading it in a couple of hours. {'neg': 0.0, 'neu': 1.0, 'pos': 0.0, 'compound': 0.0}\n",
      "None\n",
      "I love that there were illustrations!--- {'neg': 0.0, 'neu': 0.527, 'pos': 0.473, 'compound': 0.6696}\n",
      "None\n",
      "It teaches a lot of lessons.------------ {'neg': 0.0, 'neu': 1.0, 'pos': 0.0, 'compound': 0.0}\n",
      "None\n",
      "Such an awe-inspiring book.------------- {'neg': 0.0, 'neu': 1.0, 'pos': 0.0, 'compound': 0.0}\n",
      "None\n"
     ]
    }
   ],
   "source": [
    "# Sentiment score (Vader) sentence by sentence\n",
    "\n",
    "sent1 = \"We should see with our hearts not with our eyes.\"  \n",
    "print(sentiment_analyzer_scores(sent1))\n",
    "\n",
    "sent2 = \"This is the lesson I've learned from reading The Little Prince.\"\n",
    "print(sentiment_analyzer_scores(sent2))\n",
    "\n",
    "sent3 = \"I was convinced to read this book because my favorite professor, Sir Elson, told me that this was his favorite book.\"\n",
    "print(sentiment_analyzer_scores(sent3))\n",
    "\n",
    "sent4 = \"I've been hearing about this book and I was expecting it to be thick and in hard bound.\"\n",
    "print(sentiment_analyzer_scores(sent4))\n",
    "\n",
    "sent5 = \"But to my surprise, it was just thin.\"\n",
    "print(sentiment_analyzer_scores(sent5))\n",
    "\n",
    "sent6 = \"You can finish reading it in a couple of hours.\"\n",
    "print(sentiment_analyzer_scores(sent6))\n",
    "\n",
    "sent7 = \"I love that there were illustrations!\"\n",
    "print(sentiment_analyzer_scores(sent7))\n",
    "\n",
    "sent8 = \"It teaches a lot of lessons.\"\n",
    "print(sentiment_analyzer_scores(sent8))\n",
    "\n",
    "sent9 = \"Such an awe-inspiring book.\"\n",
    "print(sentiment_analyzer_scores(sent9))"
   ]
  },
  {
   "cell_type": "code",
   "execution_count": 26,
   "metadata": {},
   "outputs": [
    {
     "name": "stdout",
     "output_type": "stream",
     "text": [
      "The average Vader polarity score of the dataset is 0.56\n",
      "The average TextBlob polarity score of the dataset is 0.27\n"
     ]
    }
   ],
   "source": [
    "# Example to find avearge of list\n",
    "from numpy import mean\n",
    "\n",
    "avg_vader = mean(df1['vader_comp'])\n",
    "print(\"The average Vader polarity score of the dataset is\", round(avg_vader,2))\n",
    "\n",
    "avg_tb = mean(df1['TextBlob_Polarity'])\n",
    "print(\"The average TextBlob polarity score of the dataset is\", round(avg_tb,2))\n"
   ]
  },
  {
   "cell_type": "code",
   "execution_count": 27,
   "metadata": {
    "scrolled": true
   },
   "outputs": [
    {
     "data": {
      "text/html": [
       "<div>\n",
       "<style scoped>\n",
       "    .dataframe tbody tr th:only-of-type {\n",
       "        vertical-align: middle;\n",
       "    }\n",
       "\n",
       "    .dataframe tbody tr th {\n",
       "        vertical-align: top;\n",
       "    }\n",
       "\n",
       "    .dataframe thead th {\n",
       "        text-align: right;\n",
       "    }\n",
       "</style>\n",
       "<table border=\"1\" class=\"dataframe\">\n",
       "  <thead>\n",
       "    <tr style=\"text-align: right;\">\n",
       "      <th></th>\n",
       "      <th>book_id</th>\n",
       "      <th>vader_comp</th>\n",
       "      <th>rating</th>\n",
       "      <th>TextBlob_Polarity</th>\n",
       "    </tr>\n",
       "  </thead>\n",
       "  <tbody>\n",
       "    <tr>\n",
       "      <th>46</th>\n",
       "      <td>11594337</td>\n",
       "      <td>0.8834</td>\n",
       "      <td>5</td>\n",
       "      <td>0.453571</td>\n",
       "    </tr>\n",
       "    <tr>\n",
       "      <th>54</th>\n",
       "      <td>157993</td>\n",
       "      <td>0.0000</td>\n",
       "      <td>4</td>\n",
       "      <td>0.053333</td>\n",
       "    </tr>\n",
       "    <tr>\n",
       "      <th>63</th>\n",
       "      <td>3636</td>\n",
       "      <td>0.3549</td>\n",
       "      <td>5</td>\n",
       "      <td>0.104762</td>\n",
       "    </tr>\n",
       "    <tr>\n",
       "      <th>70</th>\n",
       "      <td>11387515</td>\n",
       "      <td>0.9654</td>\n",
       "      <td>4</td>\n",
       "      <td>0.176768</td>\n",
       "    </tr>\n",
       "    <tr>\n",
       "      <th>71</th>\n",
       "      <td>157993</td>\n",
       "      <td>0.9436</td>\n",
       "      <td>5</td>\n",
       "      <td>0.055729</td>\n",
       "    </tr>\n",
       "  </tbody>\n",
       "</table>\n",
       "</div>"
      ],
      "text/plain": [
       "     book_id  vader_comp  rating  TextBlob_Polarity\n",
       "46  11594337      0.8834       5           0.453571\n",
       "54    157993      0.0000       4           0.053333\n",
       "63      3636      0.3549       5           0.104762\n",
       "70  11387515      0.9654       4           0.176768\n",
       "71    157993      0.9436       5           0.055729"
      ]
     },
     "execution_count": 27,
     "metadata": {},
     "output_type": "execute_result"
    }
   ],
   "source": [
    "# Numerical scores\n",
    "\n",
    "df2 = pd.DataFrame(df1, columns=['book_id', 'vader_comp',  'rating', 'TextBlob_Polarity'])\n",
    "df2.head()\n"
   ]
  },
  {
   "cell_type": "code",
   "execution_count": 28,
   "metadata": {},
   "outputs": [
    {
     "name": "stdout",
     "output_type": "stream",
     "text": [
      "          vader_comp    rating  TextBlob_Polarity\n",
      "book_id                                          \n",
      "5           0.516318  4.596465           0.305492\n",
      "11387515    0.690078  4.505668           0.300365\n",
      "11594337    0.693884  4.393651           0.304830\n",
      "8127        0.668560  4.350959           0.294144\n",
      "157993      0.479458  4.234104           0.213245\n",
      "9673436     0.720200  4.224961           0.349500\n",
      "2998        0.580946  4.127297           0.275606\n",
      "3636        0.529023  4.003086           0.242607\n",
      "370493      0.367304  3.982322           0.231196\n",
      "78411       0.437195  3.764882           0.194168\n"
     ]
    }
   ],
   "source": [
    "# Visualise results for all 3\n",
    "\n",
    "df2_results = df2.groupby('book_id',sort=True).mean()\n",
    "results = df2_results.sort_values('rating', ascending = False)\n",
    "print(results)\n"
   ]
  },
  {
   "cell_type": "code",
   "execution_count": 29,
   "metadata": {},
   "outputs": [
    {
     "data": {
      "text/plain": [
       "<matplotlib.legend.Legend at 0x1a1a2a69580>"
      ]
     },
     "execution_count": 29,
     "metadata": {},
     "output_type": "execute_result"
    },
    {
     "data": {
      "text/plain": [
       "<Figure size 432x288 with 0 Axes>"
      ]
     },
     "metadata": {},
     "output_type": "display_data"
    },
    {
     "data": {
      "image/png": "[encoded data removed]",
      "text/plain": [
       "<Figure size 432x288 with 1 Axes>"
      ]
     },
     "metadata": {
      "needs_background": "light"
     },
     "output_type": "display_data"
    }
   ],
   "source": [
    "import matplotlib.pyplot as plt\n",
    "\n",
    "plt.figure();\n",
    "\n",
    "results.iloc[:,0:3].plot.bar()\n",
    "\n",
    "plt.axhline(0, color=\"k\")\n",
    "plt.xlabel(\"Book_ID\")\n",
    "plt.ylabel(\"Polarity Score / User Rating\")\n",
    "plt.title(\"Average Polarity Score and User Rating by Book\")\n",
    "\n",
    "legend = plt.legend()\n",
    "legend.get_frame().set_edgecolor('1.0')\n",
    "\n",
    "plt.legend(loc = 'best', bbox_to_anchor=(1.05, 1.05))\n",
    "\n",
    "# User rating sorted in decreasing order\n",
    "# We can observe that vader and textblob polarity scores does not move in a similar pattern"
   ]
  },
  {
   "cell_type": "code",
   "execution_count": 30,
   "metadata": {},
   "outputs": [
    {
     "data": {
      "text/html": [
       "<div>\n",
       "<style scoped>\n",
       "    .dataframe tbody tr th:only-of-type {\n",
       "        vertical-align: middle;\n",
       "    }\n",
       "\n",
       "    .dataframe tbody tr th {\n",
       "        vertical-align: top;\n",
       "    }\n",
       "\n",
       "    .dataframe thead th {\n",
       "        text-align: right;\n",
       "    }\n",
       "</style>\n",
       "<table border=\"1\" class=\"dataframe\">\n",
       "  <thead>\n",
       "    <tr style=\"text-align: right;\">\n",
       "      <th></th>\n",
       "      <th>book_id</th>\n",
       "      <th>rating</th>\n",
       "      <th>review_text</th>\n",
       "      <th>review_xlink</th>\n",
       "      <th>vader_scores</th>\n",
       "      <th>vader_comp</th>\n",
       "      <th>vader_sentiment</th>\n",
       "      <th>user_sentiment</th>\n",
       "      <th>TextBlob_Subjectivity</th>\n",
       "      <th>TextBlob_Polarity</th>\n",
       "      <th>TB_sentiment</th>\n",
       "    </tr>\n",
       "  </thead>\n",
       "  <tbody>\n",
       "    <tr>\n",
       "      <th>338</th>\n",
       "      <td>9673436</td>\n",
       "      <td>5</td>\n",
       "      <td>Great kid's book. Loved the pictures too</td>\n",
       "      <td>Great kid's book. Loved the pictures too</td>\n",
       "      <td>{'neg': 0.0, 'neu': 0.385, 'pos': 0.615, 'comp...</td>\n",
       "      <td>0.8402</td>\n",
       "      <td>pos</td>\n",
       "      <td>pos</td>\n",
       "      <td>0.775000</td>\n",
       "      <td>0.750000</td>\n",
       "      <td>pos</td>\n",
       "    </tr>\n",
       "    <tr>\n",
       "      <th>415</th>\n",
       "      <td>9673436</td>\n",
       "      <td>3</td>\n",
       "      <td>My three year old loved, LOVED, this book so m...</td>\n",
       "      <td>My three year old loved, LOVED, this book so m...</td>\n",
       "      <td>{'neg': 0.0, 'neu': 0.656, 'pos': 0.344, 'comp...</td>\n",
       "      <td>0.9205</td>\n",
       "      <td>pos</td>\n",
       "      <td>neutral</td>\n",
       "      <td>0.508000</td>\n",
       "      <td>0.372000</td>\n",
       "      <td>pos</td>\n",
       "    </tr>\n",
       "    <tr>\n",
       "      <th>2225</th>\n",
       "      <td>9673436</td>\n",
       "      <td>5</td>\n",
       "      <td>Such an amazing book- it's worth all the accla...</td>\n",
       "      <td>Such an amazing book- it's worth all the accla...</td>\n",
       "      <td>{'neg': 0.019, 'neu': 0.6, 'pos': 0.381, 'comp...</td>\n",
       "      <td>0.9883</td>\n",
       "      <td>pos</td>\n",
       "      <td>pos</td>\n",
       "      <td>0.665000</td>\n",
       "      <td>0.455000</td>\n",
       "      <td>pos</td>\n",
       "    </tr>\n",
       "    <tr>\n",
       "      <th>2915</th>\n",
       "      <td>9673436</td>\n",
       "      <td>3</td>\n",
       "      <td>I always wonder how much of books like these a...</td>\n",
       "      <td>I always wonder how much of books like these a...</td>\n",
       "      <td>{'neg': 0.036, 'neu': 0.732, 'pos': 0.232, 'co...</td>\n",
       "      <td>0.9537</td>\n",
       "      <td>pos</td>\n",
       "      <td>neutral</td>\n",
       "      <td>0.417045</td>\n",
       "      <td>0.188447</td>\n",
       "      <td>neutral</td>\n",
       "    </tr>\n",
       "    <tr>\n",
       "      <th>2993</th>\n",
       "      <td>9673436</td>\n",
       "      <td>4</td>\n",
       "      <td>The juxtaposition prose/pictures made this boo...</td>\n",
       "      <td>The juxtaposition prose/pictures made this boo...</td>\n",
       "      <td>{'neg': 0.0, 'neu': 0.816, 'pos': 0.184, 'comp...</td>\n",
       "      <td>0.7063</td>\n",
       "      <td>pos</td>\n",
       "      <td>pos</td>\n",
       "      <td>0.833333</td>\n",
       "      <td>0.566667</td>\n",
       "      <td>pos</td>\n",
       "    </tr>\n",
       "  </tbody>\n",
       "</table>\n",
       "</div>"
      ],
      "text/plain": [
       "      book_id  rating                                        review_text  \\\n",
       "338   9673436       5           Great kid's book. Loved the pictures too   \n",
       "415   9673436       3  My three year old loved, LOVED, this book so m...   \n",
       "2225  9673436       5  Such an amazing book- it's worth all the accla...   \n",
       "2915  9673436       3  I always wonder how much of books like these a...   \n",
       "2993  9673436       4  The juxtaposition prose/pictures made this boo...   \n",
       "\n",
       "                                           review_xlink  \\\n",
       "338            Great kid's book. Loved the pictures too   \n",
       "415   My three year old loved, LOVED, this book so m...   \n",
       "2225  Such an amazing book- it's worth all the accla...   \n",
       "2915  I always wonder how much of books like these a...   \n",
       "2993  The juxtaposition prose/pictures made this boo...   \n",
       "\n",
       "                                           vader_scores  vader_comp  \\\n",
       "338   {'neg': 0.0, 'neu': 0.385, 'pos': 0.615, 'comp...      0.8402   \n",
       "415   {'neg': 0.0, 'neu': 0.656, 'pos': 0.344, 'comp...      0.9205   \n",
       "2225  {'neg': 0.019, 'neu': 0.6, 'pos': 0.381, 'comp...      0.9883   \n",
       "2915  {'neg': 0.036, 'neu': 0.732, 'pos': 0.232, 'co...      0.9537   \n",
       "2993  {'neg': 0.0, 'neu': 0.816, 'pos': 0.184, 'comp...      0.7063   \n",
       "\n",
       "     vader_sentiment user_sentiment  TextBlob_Subjectivity  TextBlob_Polarity  \\\n",
       "338              pos            pos               0.775000           0.750000   \n",
       "415              pos        neutral               0.508000           0.372000   \n",
       "2225             pos            pos               0.665000           0.455000   \n",
       "2915             pos        neutral               0.417045           0.188447   \n",
       "2993             pos            pos               0.833333           0.566667   \n",
       "\n",
       "     TB_sentiment  \n",
       "338           pos  \n",
       "415           pos  \n",
       "2225          pos  \n",
       "2915      neutral  \n",
       "2993          pos  "
      ]
     },
     "execution_count": 30,
     "metadata": {},
     "output_type": "execute_result"
    }
   ],
   "source": [
    "# Applying the findings to business objective - users to get an idea of overall sentiment for a particular book\n",
    "# Filter analysis results by book id '9673436' and extract results for this book\n",
    "\n",
    "df3 = df1[df1['book_id']==9673436]\n",
    "df3.head()"
   ]
  },
  {
   "cell_type": "code",
   "execution_count": 32,
   "metadata": {},
   "outputs": [
    {
     "name": "stdout",
     "output_type": "stream",
     "text": [
      "              precision    recall  f1-score   support\n",
      "\n",
      "         neg       0.10      0.18      0.13        50\n",
      "     neutral       0.10      0.12      0.11       188\n",
      "         pos       0.90      0.85      0.87      1709\n",
      "\n",
      "    accuracy                           0.76      1947\n",
      "   macro avg       0.36      0.38      0.37      1947\n",
      "weighted avg       0.80      0.76      0.78      1947\n",
      "\n"
     ]
    }
   ],
   "source": [
    "# Print confusion matrix for book id '9673436'\n",
    "# comparing user rating and vader compound score\n",
    "\n",
    "confusion_matrix(df3['vader_sentiment'],df3['user_sentiment'])\n",
    "print(classification_report(df3['vader_sentiment'],df3['user_sentiment']))"
   ]
  },
  {
   "cell_type": "code",
   "execution_count": 33,
   "metadata": {},
   "outputs": [
    {
     "name": "stdout",
     "output_type": "stream",
     "text": [
      "              precision    recall  f1-score   support\n",
      "\n",
      "         neg       0.04      0.67      0.08         6\n",
      "     neutral       0.54      0.15      0.23       869\n",
      "         pos       0.58      0.88      0.70      1072\n",
      "\n",
      "    accuracy                           0.55      1947\n",
      "   macro avg       0.39      0.56      0.34      1947\n",
      "weighted avg       0.56      0.55      0.49      1947\n",
      "\n"
     ]
    }
   ],
   "source": [
    "# Print confusion matrix for book id '9673436'\n",
    "# comparing user rating and TextBlob polarity score\n",
    "\n",
    "confusion_matrix(df3['TB_sentiment'],df3['user_sentiment'])\n",
    "print(classification_report(df3['TB_sentiment'],df3['user_sentiment']))"
   ]
  },
  {
   "cell_type": "code",
   "execution_count": 34,
   "metadata": {},
   "outputs": [
    {
     "name": "stdout",
     "output_type": "stream",
     "text": [
      "The average Vader polarity score of the dataset is 0.72\n",
      "The average TextBlob polarity score of the dataset is 0.35\n"
     ]
    }
   ],
   "source": [
    "# Example to find avearge scores for book id '9673436'\n",
    "from numpy import mean\n",
    "\n",
    "avg_vader = mean(df3['vader_comp'])\n",
    "print(\"The average Vader polarity score of the dataset is\", round(avg_vader,2))\n",
    "\n",
    "avg_tb = mean(df3['TextBlob_Polarity'])\n",
    "print(\"The average TextBlob polarity score of the dataset is\", round(avg_tb,2))\n"
   ]
  },
  {
   "cell_type": "code",
   "execution_count": 35,
   "metadata": {
    "scrolled": true
   },
   "outputs": [
    {
     "data": {
      "text/html": [
       "<div>\n",
       "<style scoped>\n",
       "    .dataframe tbody tr th:only-of-type {\n",
       "        vertical-align: middle;\n",
       "    }\n",
       "\n",
       "    .dataframe tbody tr th {\n",
       "        vertical-align: top;\n",
       "    }\n",
       "\n",
       "    .dataframe thead th {\n",
       "        text-align: right;\n",
       "    }\n",
       "</style>\n",
       "<table border=\"1\" class=\"dataframe\">\n",
       "  <thead>\n",
       "    <tr style=\"text-align: right;\">\n",
       "      <th></th>\n",
       "      <th>book_id</th>\n",
       "      <th>rating</th>\n",
       "      <th>vader_comp</th>\n",
       "      <th>TextBlob_Polarity</th>\n",
       "    </tr>\n",
       "  </thead>\n",
       "  <tbody>\n",
       "    <tr>\n",
       "      <th>338</th>\n",
       "      <td>9673436</td>\n",
       "      <td>5</td>\n",
       "      <td>0.8402</td>\n",
       "      <td>0.750000</td>\n",
       "    </tr>\n",
       "    <tr>\n",
       "      <th>415</th>\n",
       "      <td>9673436</td>\n",
       "      <td>3</td>\n",
       "      <td>0.9205</td>\n",
       "      <td>0.372000</td>\n",
       "    </tr>\n",
       "    <tr>\n",
       "      <th>2225</th>\n",
       "      <td>9673436</td>\n",
       "      <td>5</td>\n",
       "      <td>0.9883</td>\n",
       "      <td>0.455000</td>\n",
       "    </tr>\n",
       "    <tr>\n",
       "      <th>2915</th>\n",
       "      <td>9673436</td>\n",
       "      <td>3</td>\n",
       "      <td>0.9537</td>\n",
       "      <td>0.188447</td>\n",
       "    </tr>\n",
       "    <tr>\n",
       "      <th>2993</th>\n",
       "      <td>9673436</td>\n",
       "      <td>4</td>\n",
       "      <td>0.7063</td>\n",
       "      <td>0.566667</td>\n",
       "    </tr>\n",
       "  </tbody>\n",
       "</table>\n",
       "</div>"
      ],
      "text/plain": [
       "      book_id  rating  vader_comp  TextBlob_Polarity\n",
       "338   9673436       5      0.8402           0.750000\n",
       "415   9673436       3      0.9205           0.372000\n",
       "2225  9673436       5      0.9883           0.455000\n",
       "2915  9673436       3      0.9537           0.188447\n",
       "2993  9673436       4      0.7063           0.566667"
      ]
     },
     "execution_count": 35,
     "metadata": {},
     "output_type": "execute_result"
    }
   ],
   "source": [
    "# Numerical scores\n",
    "\n",
    "df4 = pd.DataFrame(df3, columns=['book_id', 'rating', 'vader_comp', 'TextBlob_Polarity'])\n",
    "df4.head()\n"
   ]
  },
  {
   "cell_type": "code",
   "execution_count": 62,
   "metadata": {},
   "outputs": [
    {
     "name": "stdout",
     "output_type": "stream",
     "text": [
      "           rating  vader_comp  TextBlob_Polarity\n",
      "book_id                                         \n",
      "9673436  4.224961      0.7202             0.3495\n"
     ]
    },
    {
     "data": {
      "text/plain": [
       "<matplotlib.legend.Legend at 0x1a2c22aa280>"
      ]
     },
     "execution_count": 62,
     "metadata": {},
     "output_type": "execute_result"
    },
    {
     "data": {
      "text/plain": [
       "<Figure size 432x288 with 0 Axes>"
      ]
     },
     "metadata": {},
     "output_type": "display_data"
    },
    {
     "data": {
      "image/png": "[encoded data removed]",
      "text/plain": [
       "<Figure size 432x288 with 1 Axes>"
      ]
     },
     "metadata": {
      "needs_background": "light"
     },
     "output_type": "display_data"
    }
   ],
   "source": [
    "df4_results = df4.groupby('book_id',sort=True).mean()\n",
    "results = df4_results.sort_values('rating', ascending = False)\n",
    "print(results)\n",
    "        \n",
    "plt.figure();\n",
    "\n",
    "results.iloc[:,0:3].plot.bar()\n",
    "\n",
    "plt.axhline(0, color=\"k\")\n",
    "plt.xlabel(\"Book_ID\")\n",
    "plt.ylabel(\"Polarity Score / User Rating\")\n",
    "plt.title(\"Average Polarity Score and User Rating for Book 9673436\")\n",
    "\n",
    "legend = plt.legend()\n",
    "legend.get_frame().set_edgecolor('1.0')\n",
    "\n",
    "plt.legend(loc = 'best', bbox_to_anchor=(0.95, 0.95))"
   ]
  },
  {
   "cell_type": "code",
   "execution_count": 37,
   "metadata": {},
   "outputs": [
    {
     "name": "stdout",
     "output_type": "stream",
     "text": [
      "My three year old loved, LOVED, this book so much that afterwards we started role playing, with me as the Station Inspector and him as Hugo Cabret. \n",
      " Highly recommend.\n",
      "User rating is 4\n",
      "Vader polarity score is 0.0\n",
      "TextBlob polarity score is 0.05333333333333334\n"
     ]
    }
   ],
   "source": [
    "# Sample review 1 for book id 9673436\n",
    "\n",
    "print(df3.iloc[1,3])\n",
    "print(\"User rating is\",df1.iloc[1,1])\n",
    "print(\"Vader polarity score is\",df1.iloc[1,5])\n",
    "print(\"TextBlob polarity score is\",df1.iloc[1,9])"
   ]
  },
  {
   "cell_type": "code",
   "execution_count": 38,
   "metadata": {},
   "outputs": [
    {
     "name": "stdout",
     "output_type": "stream",
     "text": [
      "The juxtaposition prose/pictures made this book really magical and charming ... if I had a kid, this would be at the top of my list to read him/her.\n",
      "User rating is 5\n",
      "Vader polarity score is 0.9436\n",
      "TextBlob polarity score is 0.055729166666666656\n"
     ]
    }
   ],
   "source": [
    "# Sample review 2 for book id 9673436\n",
    "\n",
    "print(df3.iloc[4,3])\n",
    "print(\"User rating is\",df1.iloc[4,1])\n",
    "print(\"Vader polarity score is\",df1.iloc[4,5])\n",
    "print(\"TextBlob polarity score is\",df1.iloc[4,9])"
   ]
  }
 ],
 "metadata": {
  "kernelspec": {
   "display_name": "Python 3",
   "language": "python",
   "name": "python3"
  },
  "language_info": {
   "codemirror_mode": {
    "name": "ipython",
    "version": 3
   },
   "file_extension": ".py",
   "mimetype": "text/x-python",
   "name": "python",
   "nbconvert_exporter": "python",
   "pygments_lexer": "ipython3",
   "version": "3.8.8"
  }
 },
 "nbformat": 4,
 "nbformat_minor": 4
}
